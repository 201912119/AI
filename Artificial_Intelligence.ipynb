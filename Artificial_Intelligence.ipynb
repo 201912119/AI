{
  "nbformat": 4,
  "nbformat_minor": 0,
  "metadata": {
    "colab": {
      "name": "Artificial_Intelligence.ipynb",
      "provenance": []
    },
    "kernelspec": {
      "name": "python3",
      "display_name": "Python 3"
    },
    "language_info": {
      "name": "python"
    }
  },
  "cells": [
    {
      "cell_type": "markdown",
      "source": [
        "### DATA SCIENCE"
      ],
      "metadata": {
        "id": "ARoSkUtlvwW7"
      }
    },
    {
      "cell_type": "code",
      "source": [
        "#Displaying an image and the histogram of color values\n",
        "\n",
        "import plotly.graph_objects as go",
        "from plotly.subplots import make_subplots\n",
        "from skimage import data\n",
        "img = data.chelsea()\n",
        "fig = make_subplots(1, 2)\n",
        "fig.add_trace(go.Image(z=img), 1, 1)\n",
        "for channel, color in enumerate(['red', 'green', 'blue']):\n",
        "    fig.add_trace(go.Histogram(x=img[..., channel].ravel(), opacity=0.5,\n",
        "                               marker_color=color, name='%s channel' %color), 1, 2)\n",
        "fig.update_layout(height=400)\n",
        "fig.show()"
      ],
      "metadata": {
        "id": "yY8DOUVMzEHG"
      },
      "execution_count": null,
      "outputs": []
    },
    {
      "cell_type": "code",
      "execution_count": null,
      "metadata": {
        "id": "t9_dK7XCrFU4"
      },
      "outputs": [],
      "source": [
        "#Life Expectancy per country (Sunburst)\n",
        "\n",
        "import plotly.express as px\n",
        "import numpy as np\n",
        "df = px.data.gapminder().query(\"year == 2007\")\n",
        "fig = px.sunburst(df, path=['continent', 'country'], values='pop',\n",
        "                  color='lifeExp', hover_data=['iso_alpha'],\n",
        "                  color_continuous_scale='RdBu',\n",
        "                  color_continuous_midpoint=np.average(df['lifeExp'], weights=df['pop']))\n",
        "fig.show()"
      ]
    },
    {
      "cell_type": "code",
      "source": [
        "#Life Expectancy per country (Bubble Chart)\n",
        "import plotly.express as px\n",
        "df = px.data.gapminder()\n",
        "\n",
        "fig = px.scatter(df.query(\"year==2007\"), x=\"gdpPercap\", y=\"lifeExp\",\n",
        "\t         size=\"pop\", color=\"continent\",\n",
        "                 hover_name=\"country\", log_x=True, size_max=60)\n",
        "fig.show()"
      ],
      "metadata": {
        "id": "g8D3k6G8rdkG"
      },
      "execution_count": null,
      "outputs": []
    },
    {
      "cell_type": "code",
      "source": [
        "#Mount Bruno Elevation with surface 3D plot\n",
        "import plotly.graph_objects as go\n",
        "import pandas as pd\n",
        "z_data = pd.read_csv('https://raw.githubusercontent.com/plotly/datasets/master/api_docs/mt_bruno_elevation.csv')\n",
        "\n",
        "fig = go.Figure(data=[go.Surface(z=z_data.values)])\n",
        "fig.update_traces(contours_z=dict(show=True, usecolormap=True,\n",
        "                                  highlightcolor=\"limegreen\", project_z=True))\n",
        "fig.update_layout(title='Mt Bruno Elevation', autosize=False,\n",
        "                  scene_camera_eye=dict(x=1.87, y=0.88, z=-0.64),\n",
        "                  width=500, height=500,\n",
        "                  margin=dict(l=65, r=50, b=65, t=90)\n",
        ")\n",
        "\n",
        "fig.show()"
      ],
      "metadata": {
        "id": "01vBAe9YsscP"
      },
      "execution_count": null,
      "outputs": []
    },
    {
      "cell_type": "code",
      "source": [
        "#Life expectancy per country from 1952 to 2007\n",
        "import plotly.express as px\n",
        "df = px.data.gapminder()\n",
        "px.scatter(df, x=\"gdpPercap\", y=\"lifeExp\", animation_frame=\"year\", animation_group=\"country\",\n",
        "           size=\"pop\", color=\"continent\", hover_name=\"country\",\n",
        "           log_x=True, size_max=55, range_x=[100,100000], range_y=[25,90])"
      ],
      "metadata": {
        "id": "VyGkv7R3s7L_"
      },
      "execution_count": null,
      "outputs": []
    },
    {
      "cell_type": "markdown",
      "source": [
        "### MACHINE LEARNING"
      ],
      "metadata": {
        "id": "sqJZt7HyvlL7"
      }
    },
    {
      "cell_type": "code",
      "source": [
        "#Comparing tips and bills from males and females using K-Nearest Neighbor algorithm\n",
        "import numpy as np\n",
        "import plotly.express as px\n",
        "import plotly.graph_objects as go\n",
        "from sklearn.neighbors import KNeighborsRegressor\n",
        "\n",
        "df = px.data.tips()\n",
        "X = df.total_bill.values.reshape(-1, 1)\n",
        "x_range = np.linspace(X.min(), X.max(), 100)\n",
        "\n",
        "# Model #1\n",
        "knn_dist = KNeighborsRegressor(10, weights='distance')\n",
        "knn_dist.fit(X, df.tip)\n",
        "y_dist = knn_dist.predict(x_range.reshape(-1, 1))\n",
        "\n",
        "# Model #2\n",
        "knn_uni = KNeighborsRegressor(10, weights='uniform')\n",
        "knn_uni.fit(X, df.tip)\n",
        "y_uni = knn_uni.predict(x_range.reshape(-1, 1))\n",
        "\n",
        "fig = px.scatter(df, x='total_bill', y='tip', color='sex', opacity=0.65)\n",
        "fig.add_traces(go.Scatter(x=x_range, y=y_uni, name='Weights: Uniform'))\n",
        "fig.add_traces(go.Scatter(x=x_range, y=y_dist, name='Weights: Distance'))\n",
        "fig.show()"
      ],
      "metadata": {
        "id": "2Uz0kb8TvB-0"
      },
      "execution_count": null,
      "outputs": []
    },
    {
      "cell_type": "code",
      "source": [
        "#Flower petal size prediction using Suport Vector Machine algorithm\n",
        "import numpy as np\n",
        "import plotly.express as px\n",
        "import plotly.graph_objects as go\n",
        "from sklearn.svm import SVR\n",
        "\n",
        "mesh_size = .02\n",
        "margin = 0\n",
        "\n",
        "df = px.data.iris()\n",
        "\n",
        "X = df[['sepal_width', 'sepal_length']]\n",
        "y = df['petal_width']\n",
        "\n",
        "# Condition the model on sepal width and length, predict the petal width\n",
        "model = SVR(C=1.)\n",
        "model.fit(X, y)\n",
        "\n",
        "# Create a mesh grid on which we will run our model\n",
        "x_min, x_max = X.sepal_width.min() - margin, X.sepal_width.max() + margin\n",
        "y_min, y_max = X.sepal_length.min() - margin, X.sepal_length.max() + margin\n",
        "xrange = np.arange(x_min, x_max, mesh_size)\n",
        "yrange = np.arange(y_min, y_max, mesh_size)\n",
        "xx, yy = np.meshgrid(xrange, yrange)\n",
        "\n",
        "# Run model\n",
        "pred = model.predict(np.c_[xx.ravel(), yy.ravel()])\n",
        "pred = pred.reshape(xx.shape)\n",
        "\n",
        "# Generate the plot\n",
        "fig = px.scatter_3d(df, x='sepal_width', y='sepal_length', z='petal_width')\n",
        "fig.update_traces(marker=dict(size=5))\n",
        "fig.add_traces(go.Surface(x=xrange, y=yrange, z=pred, name='pred_surface'))\n",
        "fig.show()"
      ],
      "metadata": {
        "id": "1mwnjPdRyM-S"
      },
      "execution_count": null,
      "outputs": []
    },
    {
      "cell_type": "markdown",
      "source": [
        "### DEEP LEARNING"
      ],
      "metadata": {
        "id": "uKnx8RS_wlm5"
      }
    },
    {
      "cell_type": "code",
      "source": [
        "#STEP 1: CLONE DEEP LEARNING REPOSITORY\n",
        "!git clone https://github.com/ultralytics/yolov5  # clone repo\n",
        "%cd yolov5\n",
        "%pip install -qr requirements.txt # install dependencies\n",
        "%pip install -q roboflow\n",
        "\n",
        "import torch\n",
        "import os\n",
        "from IPython.display import Image, clear_output  # to display images\n",
        "\n",
        "print(f\"Setup complete. Using torch {torch.__version__} ({torch.cuda.get_device_properties(0).name if torch.cuda.is_available() else 'CPU'})\")"
      ],
      "metadata": {
        "id": "YOiqfMKzwnw6"
      },
      "execution_count": null,
      "outputs": []
    },
    {
      "cell_type": "code",
      "source": [
        "#STEP 2: UPLOAD THE PICTURE YOU WANT TO USE FOR OBJECT DETECTION\n",
        "from google.colab import files\n",
        "uploaded = files.upload()"
      ],
      "metadata": {
        "id": "F0eRH-AGwqM8"
      },
      "execution_count": null,
      "outputs": []
    },
    {
      "cell_type": "code",
      "source": [
        "#STEP 3: RUN THE DETECTION (dont forget to change the name of the file to the one you uploaded)\n",
        "!python detect.py --source photo1.png"
      ],
      "metadata": {
        "id": "5jFLJmX2w_4q"
      },
      "execution_count": null,
      "outputs": []
    },
    {
      "cell_type": "code",
      "source": [
        "#STEP 4: DISPLAY YOUR IMAGE\n",
        "import glob\n",
        "from IPython.display import Image, display\n",
        "for imageName in glob.glob('/content/yolov5/runs/detect/exp/*.png'): #assuming png\n",
        "    display(Image(filename=imageName))\n",
        "    print(\"\\n\")"
      ],
      "metadata": {
        "id": "TQWvvQwCxReO"
      },
      "execution_count": null,
      "outputs": []
    }
  ]
}
